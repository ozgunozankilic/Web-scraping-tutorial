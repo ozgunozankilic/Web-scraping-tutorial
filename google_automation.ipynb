{
 "cells": [
  {
   "cell_type": "markdown",
   "metadata": {},
   "source": [
    "# Automating Google searches to extract information"
   ]
  },
  {
   "cell_type": "markdown",
   "metadata": {},
   "source": [
    "Google can directly show us certain information when we make a search. It can show the weather, a location's address, the distance between two locations, and more.\n",
    "\n",
    "In this notebook, we will retrieve the distances between a few locations by automating Google searches and extracting the information.\n",
    "\n",
    "Just like before, let us firstly open a browser using Selenium:"
   ]
  },
  {
   "cell_type": "code",
   "execution_count": 1,
   "metadata": {},
   "outputs": [],
   "source": [
    "from selenium import webdriver\n",
    "\n",
    "# Creates an options object.\n",
    "options = webdriver.ChromeOptions()\n",
    "\n",
    "# Changes the user agent.\n",
    "user_agent = \"Mozilla/5.0 (Macintosh; Intel Mac OS X 10_13_6) AppleWebKit/537.36 (KHTML, like Gecko) Chrome/71.0.3578.98 Safari/537.36\"\n",
    "options.add_argument(\"--user-agent=%s\" % user_agent)\n",
    "\n",
    "# Proxy?\n",
    "# proxy = \"<IP>:<PORT>\"\n",
    "# options.add_argument(\"--proxy-server=%s\" % proxy)\n",
    "\n",
    "# Removes certain fields that can be used to detect WebDriver.\n",
    "options.add_argument(\"--disable-blink-features=AutomationControlled\")\n",
    "options.add_experimental_option(\"excludeSwitches\", [\"enable-automation\"])\n",
    "options.add_experimental_option(\"useAutomationExtension\", False)\n",
    "\n",
    "# Sets English as the only accepted language.\n",
    "options.add_experimental_option(\"prefs\", {\"intl.accept_languages\": \"en;q=0.9\"})\n",
    "\n",
    "# Opens the browser in the incognito mode.\n",
    "options.add_argument(\"--incognito\")\n",
    "\n",
    "# Makes the browser headless.\n",
    "# options.add_argument(\"--headless\")\n",
    "\n",
    "# Opens the browser window with the provided options.\n",
    "driver = webdriver.Chrome(options=options)\n",
    "\n",
    "# Sets window size.\n",
    "driver.set_window_size(1400, 900)\n",
    "\n",
    "# Sets window position.\n",
    "driver.set_window_position(500, 0)\n",
    "\n",
    "# Sets timeout threshold.\n",
    "driver.set_page_load_timeout(30)"
   ]
  },
  {
   "cell_type": "markdown",
   "metadata": {},
   "source": [
    "Now, assume that we want to find the distances between İstanbul, Ankara, and İzmir. Let us create a location list:"
   ]
  },
  {
   "cell_type": "code",
   "execution_count": 2,
   "metadata": {},
   "outputs": [],
   "source": [
    "locations = [\"İstanbul\", \"Ankara\", \"İzmir\"]"
   ]
  },
  {
   "cell_type": "markdown",
   "metadata": {},
   "source": [
    "We can obtain the unique location pairs from this list using a nested loop. Alternatively, we can use the [itertools](https://docs.python.org/3/library/itertools.html#itertools.combinations) module:"
   ]
  },
  {
   "cell_type": "code",
   "execution_count": 3,
   "metadata": {},
   "outputs": [
    {
     "data": {
      "text/plain": [
       "[('İstanbul', 'Ankara'), ('İstanbul', 'İzmir'), ('Ankara', 'İzmir')]"
      ]
     },
     "execution_count": 3,
     "metadata": {},
     "output_type": "execute_result"
    }
   ],
   "source": [
    "from itertools import combinations\n",
    "\n",
    "location_pairs = list(combinations(locations, 2))\n",
    "\n",
    "location_pairs"
   ]
  },
  {
   "cell_type": "code",
   "execution_count": 4,
   "metadata": {},
   "outputs": [
    {
     "name": "stdout",
     "output_type": "stream",
     "text": [
      "İstanbul to Ankara: 443.9 km\n",
      "İstanbul to İzmir: 479.0 km\n",
      "Ankara to İzmir: 587.9 km\n"
     ]
    }
   ],
   "source": [
    "from selenium.webdriver.common.by import By\n",
    "from selenium.webdriver.support.ui import WebDriverWait\n",
    "from selenium.webdriver.support import expected_conditions as EC\n",
    "import random\n",
    "import time\n",
    "\n",
    "for pair in location_pairs:\n",
    "    query = f\"{pair[0]} to {pair[1]} kilometers\".replace(\" \", \"+\")\n",
    "    \n",
    "    driver.get(f\"https://www.google.com/search?q={query}\")\n",
    "    \n",
    "    wait = WebDriverWait(driver, 5)\n",
    "    directions = wait.until(EC.presence_of_all_elements_located((By.XPATH, '//div[@data-async-type=\"editableDirectionsSearch\"]')))\n",
    "    if len(directions) > 0:\n",
    "        routes = driver.find_elements_by_xpath('//span[@class=\"UdvAnf\"]')\n",
    "        \n",
    "        if len(routes) > 0:\n",
    "            distance = routes[0].text.split(\"(\")[1].replace(\")\", \"\")\n",
    "            if \" km\" in distance:\n",
    "                distance_processed = float(distance.replace(\",\", \".\").replace(\" km\", \"\"))\n",
    "            elif \" m\" in distance:\n",
    "                distance_processed = float(distance.replace(\",\", \".\").replace(\" m\", \"\"))/1000\n",
    "            else:\n",
    "                continue\n",
    "            \n",
    "            print(f\"{pair[0]} to {pair[1]}: {distance_processed} km\")\n",
    "    \n",
    "    sleep_duration = random.uniform(5, 7)\n",
    "    time.sleep(sleep_duration)\n",
    "    "
   ]
  }
 ],
 "metadata": {
  "author": "Özgün Ozan Kılıç",
  "kernelspec": {
   "display_name": "Python 3",
   "language": "python",
   "name": "python3"
  },
  "language_info": {
   "codemirror_mode": {
    "name": "ipython",
    "version": 3
   },
   "file_extension": ".py",
   "mimetype": "text/x-python",
   "name": "python",
   "nbconvert_exporter": "python",
   "pygments_lexer": "ipython3",
   "version": "3.7.7"
  }
 },
 "nbformat": 4,
 "nbformat_minor": 4
}
